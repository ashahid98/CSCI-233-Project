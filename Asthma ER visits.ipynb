{
 "cells": [
  {
   "cell_type": "code",
   "execution_count": 1,
   "metadata": {
    "collapsed": true
   },
   "outputs": [],
   "source": [
    "import json \n",
    "import pandas as pd\n",
    "import plotly.express as px\n",
    "import folium"
   ]
  },
  {
   "cell_type": "code",
   "execution_count": 2,
   "metadata": {
    "collapsed": true
   },
   "outputs": [],
   "source": [
    "import plotly.io as pio\n",
    "pio.renderers.default = 'browser'"
   ]
  },
  {
   "cell_type": "code",
   "execution_count": 3,
   "metadata": {
    "collapsed": true
   },
   "outputs": [],
   "source": [
    "ER_visits = json.load(open(\"Asthma.geojson\", 'r'))"
   ]
  },
  {
   "cell_type": "code",
   "execution_count": 4,
   "metadata": {
    "collapsed": true
   },
   "outputs": [],
   "source": [
    "Geography_map = {}\n",
    "for feature in ER_visits['features']:\n",
    "    feature['id'] = feature['properties']['Asthma ER visits']\n",
    "    Geography_map[feature['properties']['Geography - UHF 42']] = feature['id']"
   ]
  },
  {
   "cell_type": "code",
   "execution_count": 5,
   "metadata": {
    "scrolled": true
   },
   "outputs": [
    {
     "data": {
      "text/plain": [
       "{'Bayside - Little Neck': '52',\n",
       " 'Bedford Stuyvesant - Crown Heights': '2,941',\n",
       " 'Bensonhurst - Bay Ridge': '237',\n",
       " 'Borough Park': '522',\n",
       " 'Canarsie - Flatlands': '889',\n",
       " 'Central Harlem - Morningside Heights': '2,042',\n",
       " 'Chelsea - Clinton': '173',\n",
       " 'Coney Island - Sheepshead Bay': '553',\n",
       " 'Crotona - Tremont': '3,161',\n",
       " 'Downtown - Heights - Slope': '696',\n",
       " 'East Flatbush - Flatbush': '1,770',\n",
       " 'East Harlem': '1,445',\n",
       " 'East New York': '2,020',\n",
       " 'Flushing': '424',\n",
       " 'Fordham - Bronx Pk': '3,120',\n",
       " 'Fresh Meadows': '242',\n",
       " 'Gramercy Park - Murray Hill': '125',\n",
       " 'Greenpoint': '263',\n",
       " 'Greenwich Village - SoHo': '40',\n",
       " 'High Bridge - Morrisania': '3,559',\n",
       " 'Hunts Point - Mott Haven': '2,486',\n",
       " 'Jamaica': '1,534',\n",
       " 'Kingsbridge - Riverdale': '336',\n",
       " 'Long Island City - Astoria': '423',\n",
       " 'Lower Manhattan': '95',\n",
       " 'Northeast Bronx': '1,467',\n",
       " 'Pelham - Throgs Neck': '2,356',\n",
       " 'Port Richmond': '358',\n",
       " 'Ridgewood - Forest Hills': '494',\n",
       " 'Rockaways': '569',\n",
       " 'South Beach - Tottenville': '159',\n",
       " 'Southeast Queens': '507',\n",
       " 'Southwest Queens': '917',\n",
       " 'Stapleton - St. George': '387',\n",
       " 'Sunset Park': '334',\n",
       " 'Union Square - Lower East Side': '643',\n",
       " 'Upper East Side': '161',\n",
       " 'Upper West Side': '458',\n",
       " 'Washington Heights': '1,213',\n",
       " 'West Queens': '1,771',\n",
       " 'Williamsburg - Bushwick': '1,899',\n",
       " 'Willowbrook': '93'}"
      ]
     },
     "execution_count": 5,
     "metadata": {},
     "output_type": "execute_result"
    }
   ],
   "source": [
    "Geography_map"
   ]
  },
  {
   "cell_type": "code",
   "execution_count": 6,
   "metadata": {},
   "outputs": [
    {
     "data": {
      "text/plain": [
       "{'Age Group ': '0 to 17 years',\n",
       " 'Air Quality Indicator': 'Fine Particulate Matter (PM2.5)',\n",
       " 'Asthma ER visits': '3,120',\n",
       " 'Borough': 'Bronx',\n",
       " 'Geography - UHF 42': 'Fordham - Bronx Pk',\n",
       " 'Latitude': '40.86662962',\n",
       " 'Longitude': '-73.88303046',\n",
       " 'Mean, mcg per cubic meter': '7.6'}"
      ]
     },
     "execution_count": 6,
     "metadata": {},
     "output_type": "execute_result"
    }
   ],
   "source": [
    "ER_visits['features'][1]['properties']"
   ]
  },
  {
   "cell_type": "code",
   "execution_count": 7,
   "metadata": {
    "collapsed": true
   },
   "outputs": [],
   "source": [
    "scope = [\"Borough\"]\n",
    "df = pd.read_csv(\"Asthma & Air Quality Data.csv\")"
   ]
  },
  {
   "cell_type": "code",
   "execution_count": 8,
   "metadata": {},
   "outputs": [
    {
     "data": {
      "text/html": [
       "<div>\n",
       "<style scoped>\n",
       "    .dataframe tbody tr th:only-of-type {\n",
       "        vertical-align: middle;\n",
       "    }\n",
       "\n",
       "    .dataframe tbody tr th {\n",
       "        vertical-align: top;\n",
       "    }\n",
       "\n",
       "    .dataframe thead th {\n",
       "        text-align: right;\n",
       "    }\n",
       "</style>\n",
       "<table border=\"1\" class=\"dataframe\">\n",
       "  <thead>\n",
       "    <tr style=\"text-align: right;\">\n",
       "      <th></th>\n",
       "      <th>Borough</th>\n",
       "      <th>Geography - UHF 42</th>\n",
       "      <th>Latitude</th>\n",
       "      <th>Longitude</th>\n",
       "      <th>Air Quality Indicator</th>\n",
       "      <th>Mean, mcg per cubic meter</th>\n",
       "      <th>Age Group</th>\n",
       "      <th>Asthma ER visits</th>\n",
       "    </tr>\n",
       "  </thead>\n",
       "  <tbody>\n",
       "    <tr>\n",
       "      <th>0</th>\n",
       "      <td>Bronx</td>\n",
       "      <td>Crotona - Tremont</td>\n",
       "      <td>40.846229</td>\n",
       "      <td>-73.890437</td>\n",
       "      <td>Fine Particulate Matter (PM2.5)</td>\n",
       "      <td>8.2</td>\n",
       "      <td>0 to 17 years</td>\n",
       "      <td>3,161</td>\n",
       "    </tr>\n",
       "    <tr>\n",
       "      <th>1</th>\n",
       "      <td>Bronx</td>\n",
       "      <td>Fordham - Bronx Pk</td>\n",
       "      <td>40.866630</td>\n",
       "      <td>-73.883030</td>\n",
       "      <td>Fine Particulate Matter (PM2.5)</td>\n",
       "      <td>7.6</td>\n",
       "      <td>0 to 17 years</td>\n",
       "      <td>3,120</td>\n",
       "    </tr>\n",
       "    <tr>\n",
       "      <th>2</th>\n",
       "      <td>Bronx</td>\n",
       "      <td>High Bridge - Morrisania</td>\n",
       "      <td>40.844632</td>\n",
       "      <td>-73.922661</td>\n",
       "      <td>Fine Particulate Matter (PM2.5)</td>\n",
       "      <td>8.2</td>\n",
       "      <td>0 to 17 years</td>\n",
       "      <td>3,559</td>\n",
       "    </tr>\n",
       "    <tr>\n",
       "      <th>3</th>\n",
       "      <td>Bronx</td>\n",
       "      <td>Hunts Point - Mott Haven</td>\n",
       "      <td>40.820281</td>\n",
       "      <td>-73.883187</td>\n",
       "      <td>Fine Particulate Matter (PM2.5)</td>\n",
       "      <td>8.3</td>\n",
       "      <td>0 to 17 years</td>\n",
       "      <td>2,486</td>\n",
       "    </tr>\n",
       "    <tr>\n",
       "      <th>4</th>\n",
       "      <td>Bronx</td>\n",
       "      <td>Kingsbridge - Riverdale</td>\n",
       "      <td>40.886612</td>\n",
       "      <td>-73.899685</td>\n",
       "      <td>Fine Particulate Matter (PM2.5)</td>\n",
       "      <td>7.5</td>\n",
       "      <td>0 to 17 years</td>\n",
       "      <td>336</td>\n",
       "    </tr>\n",
       "  </tbody>\n",
       "</table>\n",
       "</div>"
      ],
      "text/plain": [
       "  Borough        Geography - UHF 42   Latitude  Longitude  \\\n",
       "0   Bronx         Crotona - Tremont  40.846229 -73.890437   \n",
       "1   Bronx        Fordham - Bronx Pk  40.866630 -73.883030   \n",
       "2   Bronx  High Bridge - Morrisania  40.844632 -73.922661   \n",
       "3   Bronx  Hunts Point - Mott Haven  40.820281 -73.883187   \n",
       "4   Bronx   Kingsbridge - Riverdale  40.886612 -73.899685   \n",
       "\n",
       "             Air Quality Indicator  Mean, mcg per cubic meter     Age Group   \\\n",
       "0  Fine Particulate Matter (PM2.5)                        8.2  0 to 17 years   \n",
       "1  Fine Particulate Matter (PM2.5)                        7.6  0 to 17 years   \n",
       "2  Fine Particulate Matter (PM2.5)                        8.2  0 to 17 years   \n",
       "3  Fine Particulate Matter (PM2.5)                        8.3  0 to 17 years   \n",
       "4  Fine Particulate Matter (PM2.5)                        7.5  0 to 17 years   \n",
       "\n",
       "  Asthma ER visits  \n",
       "0            3,161  \n",
       "1            3,120  \n",
       "2            3,559  \n",
       "3            2,486  \n",
       "4              336  "
      ]
     },
     "execution_count": 8,
     "metadata": {},
     "output_type": "execute_result"
    }
   ],
   "source": [
    "df.head()"
   ]
  },
  {
   "cell_type": "code",
   "execution_count": 9,
   "metadata": {},
   "outputs": [
    {
     "data": {
      "text/plain": [
       "0     3,161\n",
       "1     3,120\n",
       "2     3,559\n",
       "3     2,486\n",
       "4       336\n",
       "5     1,467\n",
       "6     2,356\n",
       "7     2,941\n",
       "8       237\n",
       "9       522\n",
       "10      889\n",
       "11      553\n",
       "12      696\n",
       "13    1,770\n",
       "14    2,020\n",
       "15      263\n",
       "16      334\n",
       "17    1,899\n",
       "18    2,042\n",
       "19      173\n",
       "20    1,445\n",
       "21      125\n",
       "22       40\n",
       "23       95\n",
       "24      643\n",
       "25      161\n",
       "26      458\n",
       "27    1,213\n",
       "28       52\n",
       "29      424\n",
       "30      242\n",
       "31    1,534\n",
       "32      423\n",
       "33      494\n",
       "34      569\n",
       "35      507\n",
       "36      917\n",
       "37    1,771\n",
       "38      358\n",
       "39      159\n",
       "40      387\n",
       "41       93\n",
       "Name: Asthma ER visits, dtype: object"
      ]
     },
     "execution_count": 9,
     "metadata": {},
     "output_type": "execute_result"
    }
   ],
   "source": [
    "df['Asthma ER visits']"
   ]
  },
  {
   "cell_type": "code",
   "execution_count": 13,
   "metadata": {
    "collapsed": true
   },
   "outputs": [],
   "source": [
    "map = folium.Map(location=[40.693943, -73.985880])\n",
    "fig = px.choropleth(df, \n",
    "                    locations = 'Geography - UHF 42', \n",
    "                    geojson = ER_visits, \n",
    "                    locationmode='USA-states',\n",
    "                    color = 'Borough', \n",
    "                    scope = 'usa',\n",
    "                    hover_name = 'Borough',\n",
    "                    hover_data = ['Asthma ER visits'])\n",
    "fig.update_geos(fitbounds=\"locations\", visible = False)\n",
    "fig.show()\n"
   ]
  },
  {
   "cell_type": "code",
   "execution_count": 12,
   "metadata": {
    "collapsed": true
   },
   "outputs": [],
   "source": [
    "fig.update_layout(\n",
    "title_text = 'Average Temperature Change',\n",
    "title_x = 0.5,\n",
    "geo=dict(\n",
    "showframe = False,\n",
    "showcoastlines = False,\n",
    "))"
   ]
  },
  {
   "cell_type": "code",
   "execution_count": 2,
   "metadata": {},
   "outputs": [
    {
     "name": "stdout",
     "output_type": "stream",
     "text": [
      "Requirement already satisfied: geopandas in ./anaconda/lib/python3.5/site-packages\n",
      "Requirement already satisfied: pyproj>=2.2.0 in ./anaconda/lib/python3.5/site-packages (from geopandas)\n",
      "Requirement already satisfied: pandas>=0.23.0 in ./anaconda/lib/python3.5/site-packages (from geopandas)\n",
      "Requirement already satisfied: shapely in ./anaconda/lib/python3.5/site-packages (from geopandas)\n",
      "Requirement already satisfied: fiona in ./anaconda/lib/python3.5/site-packages (from geopandas)\n",
      "Requirement already satisfied: numpy>=1.13.3 in ./anaconda/lib/python3.5/site-packages (from pandas>=0.23.0->geopandas)\n",
      "Requirement already satisfied: pytz>=2017.2 in ./anaconda/lib/python3.5/site-packages (from pandas>=0.23.0->geopandas)\n",
      "Requirement already satisfied: python-dateutil>=2.6.1 in ./anaconda/lib/python3.5/site-packages (from pandas>=0.23.0->geopandas)\n",
      "Requirement already satisfied: click-plugins>=1.0 in ./anaconda/lib/python3.5/site-packages (from fiona->geopandas)\n",
      "Requirement already satisfied: six>=1.7 in ./anaconda/lib/python3.5/site-packages (from fiona->geopandas)\n",
      "Requirement already satisfied: attrs>=17 in ./anaconda/lib/python3.5/site-packages (from fiona->geopandas)\n",
      "Requirement already satisfied: cligj>=0.5 in ./anaconda/lib/python3.5/site-packages (from fiona->geopandas)\n",
      "Requirement already satisfied: click<8,>=4.0 in ./anaconda/lib/python3.5/site-packages (from fiona->geopandas)\n",
      "Requirement already satisfied: munch in ./anaconda/lib/python3.5/site-packages (from fiona->geopandas)\n",
      "\u001b[33mYou are using pip version 9.0.1, however version 20.2.4 is available.\n",
      "You should consider upgrading via the 'pip install --upgrade pip' command.\u001b[0m\n"
     ]
    }
   ],
   "source": [
    "import sys\n",
    "!{sys.executable} -m pip install geopandas"
   ]
  },
  {
   "cell_type": "code",
   "execution_count": null,
   "metadata": {
    "collapsed": true
   },
   "outputs": [],
   "source": []
  }
 ],
 "metadata": {
  "anaconda-cloud": {},
  "kernelspec": {
   "display_name": "Python 3",
   "language": "python",
   "name": "python3"
  },
  "language_info": {
   "codemirror_mode": {
    "name": "ipython",
    "version": 3
   },
   "file_extension": ".py",
   "mimetype": "text/x-python",
   "name": "python",
   "nbconvert_exporter": "python",
   "pygments_lexer": "ipython3",
   "version": "3.5.4"
  }
 },
 "nbformat": 4,
 "nbformat_minor": 2
}
